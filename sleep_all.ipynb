{
 "cells": [
  {
   "cell_type": "markdown",
   "metadata": {},
   "source": [
    "## 自作モジュールのインポート\n",
    "## 各パスの取得\n",
    "測定用PCが被験者PCより進んでいたらerror_timeはプラス"
   ]
  },
  {
   "cell_type": "code",
   "execution_count": 4,
   "metadata": {},
   "outputs": [
    {
     "name": "stdout",
     "output_type": "stream",
     "text": [
      "\n",
      "\n",
      "elapsed_file  ： elapsed_time_20200811153541.csv\n",
      "Thermal_file  ： Thermal_image\n",
      "seq_time      ： 15:35:08\n",
      "facebox_file  ： facebox_npy\n",
      "video_time    ： 15:34:57\n",
      "facepoint_file： facepoint_npy\n",
      "pkl_file      ： convert_pkl\n",
      "nedo_file     ： 200811_subI_NEDO - 合計.csv\n",
      "error_time    ： 5\n"
     ]
    }
   ],
   "source": [
    "save_path = 'your_path'\n",
    "\n",
    "sub_path = 'subject_path'\n",
    "\n",
    "\n",
    "from module import ImageToVideo, npyToVideo, getpath, separate_npy, make_face_npy, conf_dataset\n",
    "\n",
    "elapsed_file, Thermal_file, seq_time, facebox_file, video_time, facepoint_file, pkl_file, nedo_file, error_time = getpath.main(sub_path)"
   ]
  },
  {
   "cell_type": "markdown",
   "metadata": {},
   "source": [
    "## 特徴点の確認（特徴点動画の出力）"
   ]
  },
  {
   "cell_type": "code",
   "execution_count": 2,
   "metadata": {},
   "outputs": [
    {
     "data": {
      "application/vnd.jupyter.widget-view+json": {
       "model_id": "4e3f4cba16be47aba32e6f732f60ea23",
       "version_major": 2,
       "version_minor": 0
      },
      "text/plain": [
       "HBox(children=(HTML(value='画像の読み込み'), FloatProgress(value=0.0, max=3334.0), HTML(value='')))"
      ]
     },
     "metadata": {},
     "output_type": "display_data"
    },
    {
     "name": "stdout",
     "output_type": "stream",
     "text": [
      "\n"
     ]
    },
    {
     "data": {
      "application/vnd.jupyter.widget-view+json": {
       "model_id": "2cc6129a59c04bc699b892246569f962",
       "version_major": 2,
       "version_minor": 0
      },
      "text/plain": [
       "HBox(children=(HTML(value='動画の書き出し'), FloatProgress(value=0.0, max=3334.0), HTML(value='')))"
      ]
     },
     "metadata": {},
     "output_type": "display_data"
    },
    {
     "name": "stdout",
     "output_type": "stream",
     "text": [
      "\n"
     ]
    }
   ],
   "source": [
    "ImageToVideo.main(Thermal_file, seq_time, elapsed_file, sub_path)"
   ]
  },
  {
   "cell_type": "markdown",
   "metadata": {},
   "source": [
    "## 顔領域の切り抜き（顔領域npyファイルの生成）& 顔領域確認動画の作成"
   ]
  },
  {
   "cell_type": "code",
   "execution_count": 5,
   "metadata": {
    "tags": [
     "outputPrepend"
    ]
   },
   "outputs": [
    {
     "data": {
      "application/vnd.jupyter.widget-view+json": {
       "model_id": "9623589720384aa9a3d1edc09c9c2cd6",
       "version_major": 2,
       "version_minor": 0
      },
      "text/plain": [
       "HBox(children=(HTML(value='ファイルの検索'), FloatProgress(value=0.0, max=5939.0), HTML(value='')))"
      ]
     },
     "metadata": {},
     "output_type": "display_data"
    },
    {
     "name": "stdout",
     "output_type": "stream",
     "text": [
      "\n"
     ]
    },
    {
     "data": {
      "application/vnd.jupyter.widget-view+json": {
       "model_id": "d3786a986c844b49ae28ab1266188365",
       "version_major": 2,
       "version_minor": 0
      },
      "text/plain": [
       "HBox(children=(HTML(value='顔領域npyファイル生成'), FloatProgress(value=0.0, max=5939.0), HTML(value='')))"
      ]
     },
     "metadata": {},
     "output_type": "display_data"
    },
    {
     "name": "stdout",
     "output_type": "stream",
     "text": [
      "\n"
     ]
    },
    {
     "data": {
      "application/vnd.jupyter.widget-view+json": {
       "model_id": "33f6c42363544dd3883ad4066b2394a4",
       "version_major": 2,
       "version_minor": 0
      },
      "text/plain": [
       "HBox(children=(HTML(value='npyファイルの読み込み'), FloatProgress(value=0.0, max=5939.0), HTML(value='')))"
      ]
     },
     "metadata": {},
     "output_type": "display_data"
    },
    {
     "name": "stdout",
     "output_type": "stream",
     "text": [
      "\n"
     ]
    },
    {
     "data": {
      "application/vnd.jupyter.widget-view+json": {
       "model_id": "44f82b1c176645a29e3154777c380c32",
       "version_major": 2,
       "version_minor": 0
      },
      "text/plain": [
       "HBox(children=(HTML(value='動画の書き出し'), FloatProgress(value=0.0, max=5939.0), HTML(value='')))"
      ]
     },
     "metadata": {},
     "output_type": "display_data"
    },
    {
     "name": "stdout",
     "output_type": "stream",
     "text": [
      "\n"
     ]
    }
   ],
   "source": [
    "point_xmin_xmax_ymin_ymax = [[37,25],[24,57]]\n",
    "dif_xmin_xmax_ymin_ymax = [[2,-6],[-30,3]]\n",
    "\n",
    "facebox_file = make_face_npy.main(facepoint_file, pkl_file, save_path, point_xmin_xmax_ymin_ymax, dif_xmin_xmax_ymin_ymax)\n",
    "npyToVideo.main(facebox_file, sub_path)"
   ]
  },
  {
   "cell_type": "markdown",
   "metadata": {},
   "source": [
    "## データセットの作成（顔領域npyを眠気レベルごとに分類）"
   ]
  },
  {
   "cell_type": "code",
   "execution_count": 6,
   "metadata": {
    "tags": []
   },
   "outputs": [
    {
     "data": {
      "application/vnd.jupyter.widget-view+json": {
       "model_id": "cd650c3a2eda4621b9303f8e59f5669b",
       "version_major": 2,
       "version_minor": 0
      },
      "text/plain": [
       "HBox(children=(HTML(value='npyファイル振り分け'), FloatProgress(value=0.0, max=2700.0), HTML(value='')))"
      ]
     },
     "metadata": {},
     "output_type": "display_data"
    },
    {
     "name": "stdout",
     "output_type": "stream",
     "text": [
      "\n",
      "frame_005256.npy\n",
      "frame_005261.npy\n",
      "frame_005359.npy\n",
      "frame_005363.npy\n",
      "frame_005364.npy\n",
      "frame_005365.npy\n",
      "frame_005366.npy\n",
      "frame_005367.npy\n",
      "frame_005368.npy\n",
      "frame_005370.npy\n",
      "frame_005372.npy\n",
      "frame_005373.npy\n",
      "frame_005374.npy\n",
      "frame_005375.npy\n",
      "frame_005377.npy\n",
      "frame_005378.npy\n",
      "frame_005381.npy\n",
      "frame_005386.npy\n"
     ]
    },
    {
     "data": {
      "application/vnd.jupyter.widget-view+json": {
       "model_id": "66df4c837f7b4f808e75761f5ddb0712",
       "version_major": 2,
       "version_minor": 0
      },
      "text/plain": [
       "HBox(children=(HTML(value='npyファイルの読み込み'), FloatProgress(value=0.0, max=3602.0), HTML(value='')))"
      ]
     },
     "metadata": {},
     "output_type": "display_data"
    },
    {
     "name": "stdout",
     "output_type": "stream",
     "text": [
      "\n"
     ]
    },
    {
     "data": {
      "application/vnd.jupyter.widget-view+json": {
       "model_id": "fd51667dd7ff4358bba4f44961490d4d",
       "version_major": 2,
       "version_minor": 0
      },
      "text/plain": [
       "HBox(children=(HTML(value='動画の書き出し'), FloatProgress(value=0.0, max=3602.0), HTML(value='')))"
      ]
     },
     "metadata": {},
     "output_type": "display_data"
    },
    {
     "name": "stdout",
     "output_type": "stream",
     "text": [
      "\n"
     ]
    }
   ],
   "source": [
    "facebox_file = '/Users/toriitakumi/Desktop/facebox_npy'\n",
    "separate_npy.main(seq_time, video_time, elapsed_file, nedo_file, save_path, facebox_file, error_time, save_path)\n",
    "conf_dataset.main('/Users/toriitakumi/Desktop/dataset', '/Users/toriitakumi/Desktop')"
   ]
  }
 ],
 "metadata": {
  "interpreter": {
   "hash": "226c88fddee0944f509a6d8ed6e8b8edc716167a73d403f1d4aac4b86652d79a"
  },
  "kernelspec": {
   "display_name": "Python 3.8.5 64-bit ('load_seq': conda)",
   "name": "python3"
  },
  "language_info": {
   "codemirror_mode": {
    "name": "ipython",
    "version": 3
   },
   "file_extension": ".py",
   "mimetype": "text/x-python",
   "name": "python",
   "nbconvert_exporter": "python",
   "pygments_lexer": "ipython3",
   "version": "3.8.5"
  },
  "orig_nbformat": 2
 },
 "nbformat": 4,
 "nbformat_minor": 2
}
